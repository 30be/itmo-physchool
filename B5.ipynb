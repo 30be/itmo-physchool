{
 "cells": [
  {
   "cell_type": "markdown",
   "id": "4a3177a7-ddeb-4b8a-ae4f-7bd3a371183e",
   "metadata": {},
   "source": [
    "Да, это boilerplate код с документации pytorch, но helloworld он helloworld и есть. \n",
    "\n",
    "За счет одного скрытого слоя с 30 нейронами точность даже выше получилась чем в оригинальном примере.\n",
    "\n",
    "То же самое, но с нуляhttps://github.com/30be/haskell-neural-net"
   ]
  },
  {
   "cell_type": "code",
   "execution_count": 11,
   "id": "4924e2e6-6fcf-4e98-b499-2d642690988b",
   "metadata": {},
   "outputs": [],
   "source": [
    "import torch\n",
    "from torch import nn\n",
    "from torch.utils.data import DataLoader\n",
    "from torchvision import datasets\n",
    "from torchvision.transforms import ToTensor"
   ]
  },
  {
   "cell_type": "code",
   "execution_count": 12,
   "id": "f98d5890-8b32-41e9-9c82-df572bbfc9c3",
   "metadata": {},
   "outputs": [],
   "source": [
    "training_data = datasets.MNIST(\n",
    "    root=\"data\",\n",
    "    train=True,\n",
    "    download=True,\n",
    "    transform=ToTensor(),\n",
    ")\n",
    "test_data = datasets.MNIST(\n",
    "    root=\"data\",\n",
    "    train=False,\n",
    "    download=True,\n",
    "    transform=ToTensor(),\n",
    ")\n",
    "batch_size = 64\n",
    "train_dataloader = DataLoader(training_data, batch_size=batch_size)\n",
    "test_dataloader = DataLoader(test_data, batch_size=batch_size)"
   ]
  },
  {
   "cell_type": "code",
   "execution_count": 16,
   "id": "414401d4-ae97-403f-bcd1-55e56be4e538",
   "metadata": {},
   "outputs": [
    {
     "name": "stdout",
     "output_type": "stream",
     "text": [
      "Using cpu device\n"
     ]
    }
   ],
   "source": [
    "device = torch.accelerator.current_accelerator().type if torch.accelerator.is_available() else \"cpu\"\n",
    "print(f\"Using {device} device\")\n",
    "\n",
    "# Define model\n",
    "class NeuralNetwork(nn.Module):\n",
    "    def __init__(self):\n",
    "        super().__init__()\n",
    "        self.flatten = nn.Flatten()\n",
    "        self.linear_relu_stack = nn.Sequential(\n",
    "            nn.Linear(28*28, 30),\n",
    "            nn.ReLU(),\n",
    "            nn.Linear(30, 10)\n",
    "        )\n",
    "\n",
    "    def forward(self, x):\n",
    "        x = self.flatten(x)\n",
    "        logits = self.linear_relu_stack(x)\n",
    "        return logits\n",
    "\n",
    "model = NeuralNetwork().to(device)\n",
    "loss_fn = nn.CrossEntropyLoss()\n",
    "optimizer = torch.optim.SGD(model.parameters(), lr=1e-3)"
   ]
  },
  {
   "cell_type": "code",
   "execution_count": 17,
   "id": "1ef89c5e-f8d6-4f7b-b068-5d01b2d4c1d8",
   "metadata": {},
   "outputs": [
    {
     "name": "stdout",
     "output_type": "stream",
     "text": [
      "Epoch 1\n",
      "-------------------------------\n",
      "loss: 2.278712  [   64/60000]\n",
      "loss: 2.276873  [ 6464/60000]\n",
      "loss: 2.322223  [12864/60000]\n",
      "loss: 2.251767  [19264/60000]\n",
      "loss: 2.244335  [25664/60000]\n",
      "loss: 2.225034  [32064/60000]\n",
      "loss: 2.193209  [38464/60000]\n",
      "loss: 2.192393  [44864/60000]\n",
      "loss: 2.165960  [51264/60000]\n",
      "loss: 2.174521  [57664/60000]\n",
      "Test Error: \n",
      " Accuracy: 43.6%, Avg loss: 2.134141 \n",
      "\n",
      "Epoch 2\n",
      "-------------------------------\n",
      "loss: 2.110574  [   64/60000]\n",
      "loss: 2.072886  [ 6464/60000]\n",
      "loss: 2.147185  [12864/60000]\n",
      "loss: 2.027511  [19264/60000]\n",
      "loss: 2.060933  [25664/60000]\n",
      "loss: 2.019542  [32064/60000]\n",
      "loss: 1.950438  [38464/60000]\n",
      "loss: 1.987581  [44864/60000]\n",
      "loss: 1.936858  [51264/60000]\n",
      "loss: 1.921753  [57664/60000]\n",
      "Test Error: \n",
      " Accuracy: 61.1%, Avg loss: 1.889462 \n",
      "\n",
      "Epoch 3\n",
      "-------------------------------\n",
      "loss: 1.885735  [   64/60000]\n",
      "loss: 1.798685  [ 6464/60000]\n",
      "loss: 1.894795  [12864/60000]\n",
      "loss: 1.749874  [19264/60000]\n",
      "loss: 1.806736  [25664/60000]\n",
      "loss: 1.755433  [32064/60000]\n",
      "loss: 1.653284  [38464/60000]\n",
      "loss: 1.749197  [44864/60000]\n",
      "loss: 1.666885  [51264/60000]\n",
      "loss: 1.625054  [57664/60000]\n",
      "Test Error: \n",
      " Accuracy: 69.4%, Avg loss: 1.601818 \n",
      "\n",
      "Epoch 4\n",
      "-------------------------------\n",
      "loss: 1.627387  [   64/60000]\n",
      "loss: 1.496247  [ 6464/60000]\n",
      "loss: 1.606272  [12864/60000]\n",
      "loss: 1.442918  [19264/60000]\n",
      "loss: 1.497609  [25664/60000]\n",
      "loss: 1.455802  [32064/60000]\n",
      "loss: 1.347736  [38464/60000]\n",
      "loss: 1.495547  [44864/60000]\n",
      "loss: 1.393111  [51264/60000]\n",
      "loss: 1.334108  [57664/60000]\n",
      "Test Error: \n",
      " Accuracy: 75.9%, Avg loss: 1.311708 \n",
      "\n",
      "Epoch 5\n",
      "-------------------------------\n",
      "loss: 1.365671  [   64/60000]\n",
      "loss: 1.212268  [ 6464/60000]\n",
      "loss: 1.325119  [12864/60000]\n",
      "loss: 1.162918  [19264/60000]\n",
      "loss: 1.201546  [25664/60000]\n",
      "loss: 1.181072  [32064/60000]\n",
      "loss: 1.083692  [38464/60000]\n",
      "loss: 1.265627  [44864/60000]\n",
      "loss: 1.162287  [51264/60000]\n",
      "loss: 1.100761  [57664/60000]\n",
      "Test Error: \n",
      " Accuracy: 79.7%, Avg loss: 1.075267 \n",
      "\n",
      "Done!\n"
     ]
    }
   ],
   "source": [
    "def train(dataloader, model, loss_fn, optimizer):\n",
    "    size = len(dataloader.dataset)\n",
    "    model.train()\n",
    "    for batch, (X, y) in enumerate(dataloader):\n",
    "        X, y = X.to(device), y.to(device)\n",
    "\n",
    "        # Compute prediction error\n",
    "        pred = model(X)\n",
    "        loss = loss_fn(pred, y)\n",
    "\n",
    "        # Backpropagation\n",
    "        loss.backward()\n",
    "        optimizer.step()\n",
    "        optimizer.zero_grad()\n",
    "\n",
    "        if batch % 100 == 0:\n",
    "            loss, current = loss.item(), (batch + 1) * len(X)\n",
    "            print(f\"loss: {loss:>7f}  [{current:>5d}/{size:>5d}]\")\n",
    "epochs = 5\n",
    "for t in range(epochs):\n",
    "    print(f\"Epoch {t+1}\\n-------------------------------\")\n",
    "    train(train_dataloader, model, loss_fn, optimizer)\n",
    "    test(test_dataloader, model, loss_fn)\n",
    "print(\"Done!\")"
   ]
  },
  {
   "cell_type": "code",
   "execution_count": 18,
   "id": "2abc9243-504a-43b2-889f-cba9b12b214e",
   "metadata": {},
   "outputs": [
    {
     "name": "stdout",
     "output_type": "stream",
     "text": [
      "Test Error: \n",
      " Accuracy: 79.7%, Avg loss: 1.075267 \n",
      "\n"
     ]
    }
   ],
   "source": [
    "def test(dataloader, model, loss_fn):\n",
    "    size = len(dataloader.dataset)\n",
    "    num_batches = len(dataloader)\n",
    "    model.eval()\n",
    "    test_loss, correct = 0, 0\n",
    "    with torch.no_grad():\n",
    "        for X, y in dataloader:\n",
    "            X, y = X.to(device), y.to(device)\n",
    "            pred = model(X)\n",
    "            test_loss += loss_fn(pred, y).item()\n",
    "            correct += (pred.argmax(1) == y).type(torch.float).sum().item()\n",
    "    test_loss /= num_batches\n",
    "    correct /= size\n",
    "    print(f\"Test Error: \\n Accuracy: {(100*correct):>0.1f}%, Avg loss: {test_loss:>8f} \\n\")\n",
    "\n",
    "test(test_dataloader, model, loss_fn)"
   ]
  },
  {
   "cell_type": "code",
   "execution_count": null,
   "id": "be318407-f194-492a-9b20-8b1179b709d7",
   "metadata": {},
   "outputs": [],
   "source": []
  }
 ],
 "metadata": {
  "kernelspec": {
   "display_name": "Python 3 (ipykernel)",
   "language": "python",
   "name": "python3"
  },
  "language_info": {
   "codemirror_mode": {
    "name": "ipython",
    "version": 3
   },
   "file_extension": ".py",
   "mimetype": "text/x-python",
   "name": "python",
   "nbconvert_exporter": "python",
   "pygments_lexer": "ipython3",
   "version": "3.13.3"
  }
 },
 "nbformat": 4,
 "nbformat_minor": 5
}
